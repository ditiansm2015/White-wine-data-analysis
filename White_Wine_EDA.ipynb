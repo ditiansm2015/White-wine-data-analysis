{
  "nbformat": 4,
  "nbformat_minor": 0,
  "metadata": {
    "colab": {
      "name": "White Wine EDA.ipynb",
      "version": "0.3.2",
      "provenance": [],
      "collapsed_sections": []
    },
    "kernelspec": {
      "display_name": "Python 3",
      "language": "python",
      "name": "python3"
    }
  },
  "cells": [
    {
      "cell_type": "markdown",
      "metadata": {
        "id": "view-in-github",
        "colab_type": "text"
      },
      "source": [
        "[View in Colaboratory](https://colab.research.google.com/github/ditiansm2015/White-wine-data-analysis/blob/master/White_Wine_EDA.ipynb)"
      ]
    },
    {
      "metadata": {
        "id": "Qzn-lTabJ7Kk",
        "colab_type": "code",
        "colab": {
          "base_uri": "https://localhost:8080/",
          "height": 37
        },
        "outputId": "389e5e5b-a931-426c-ed71-0d7a1e95979e"
      },
      "cell_type": "code",
      "source": [
        "from IPython.display import HTML\n",
        "\n",
        "HTML('''<script>\n",
        "code_show=true; \n",
        "function code_toggle() {\n",
        " if (code_show){\n",
        " $('div.input').hide();\n",
        " } else {\n",
        " $('div.input').show();\n",
        " }\n",
        " code_show = !code_show\n",
        "} \n",
        "$( document ).ready(code_toggle);\n",
        "</script>\n",
        "<form action=\"javascript:code_toggle()\"><input type=\"submit\" value=\"Click here to toggle on/off the raw code.\"></form>''')"
      ],
      "execution_count": 46,
      "outputs": [
        {
          "output_type": "execute_result",
          "data": {
            "text/html": [
              "<script>\n",
              "code_show=true; \n",
              "function code_toggle() {\n",
              " if (code_show){\n",
              " $('div.input').hide();\n",
              " } else {\n",
              " $('div.input').show();\n",
              " }\n",
              " code_show = !code_show\n",
              "} \n",
              "$( document ).ready(code_toggle);\n",
              "</script>\n",
              "<form action=\"javascript:code_toggle()\"><input type=\"submit\" value=\"Click here to toggle on/off the raw code.\"></form>"
            ],
            "text/plain": [
              "<IPython.core.display.HTML object>"
            ]
          },
          "metadata": {
            "tags": []
          },
          "execution_count": 46
        }
      ]
    },
    {
      "metadata": {
        "id": "lm2cnPttJ7Kw",
        "colab_type": "text"
      },
      "cell_type": "markdown",
      "source": [
        "# Exploratory Data Analysis on White Wine Dataset"
      ]
    },
    {
      "metadata": {
        "id": "WBcn2lUsJ7Kz",
        "colab_type": "text"
      },
      "cell_type": "markdown",
      "source": [
        "This dataset ananlysis is aimed at getting a deeper insight into the data set and distribution of different factors that decide the quality of wine being produced. \n",
        "\n",
        "The data used is based on the wine quality dataset as recommended by Udacity. The features of the dataset are as follows , This dataset has 13 variables which contains 9 variables of ingredient, 2 variables of physical properity, 1 variable of quantity and 1 of quality. The dataset are of the size 4989 , 13. The libraries used for the data are , tidyverse and GGally. The libraries are used for visualization which can help us to come to conclusion."
      ]
    },
    {
      "metadata": {
        "id": "yIYGvgTiJ7K8",
        "colab_type": "text"
      },
      "cell_type": "markdown",
      "source": [
        "## Dataset Description"
      ]
    },
    {
      "metadata": {
        "id": "gVjSIDRkJ7K8",
        "colab_type": "text"
      },
      "cell_type": "markdown",
      "source": [
        "The dataset is in the form of CSV file format(Comma Separated Values). CSV file is stored in the formm of tables where each row represents an independent record while each column represents an attribute. Columns of same row are separated by commas.\n",
        "\n",
        "All wines are produced in a particular area of Portugal. Data are collected on 12 different properties of the wines one of which is Quality, based on sensory data, and the rest are on chemical properties of the wines including density, acidity, alcohol content etc. All chemical properties of wines are continuous variables. Quality is an ordinal variable with possible ranking from 1 (worst) to 10 (best). Each variety of wine is tasted by three independent tasters and the final rank assigned is the median rank given by the tasters"
      ]
    },
    {
      "metadata": {
        "id": "4rPEsl4FJ7K9",
        "colab_type": "text"
      },
      "cell_type": "markdown",
      "source": [
        "For more information, read [Cortez et al., 2009]. The data was last modified on October 15,2009\n",
        "Following are the attributes of the dataset:\n",
        "\n",
        "1)  fixed acidity\t\n",
        "2)  volatile acidity\t\n",
        "3)  citric acid\t\n",
        "4)  residual sugar\t\n",
        "5)  chlorides\t\n",
        "6)  free sulfur dioxide\t\n",
        "7)  total sulfur dioxide\t\n",
        "8)  density\t\n",
        "9)  pH\t\n",
        "10) sulphates\t\n",
        "11) alcohol\n",
        "12) quality(ranges from 0 to 10)\t"
      ]
    },
    {
      "metadata": {
        "id": "Q30Z0ZvGJ7K-",
        "colab_type": "text"
      },
      "cell_type": "markdown",
      "source": [
        "!['white wine'](https://images.crateandbarrel.com/is/image/Crate/VineyardWhiteChampagneFHF15/?$web_product_hero$&150817160041&wid=625&hei=625)"
      ]
    },
    {
      "metadata": {
        "id": "eCDW1Q_aJ7LA",
        "colab_type": "code",
        "colab": {}
      },
      "cell_type": "code",
      "source": [
        "import numpy as np\n",
        "import pandas as pd\n",
        "import matplotlib.pyplot as plt\n",
        "%matplotlib inline\n",
        "import seaborn as sns"
      ],
      "execution_count": 0,
      "outputs": []
    },
    {
      "metadata": {
        "id": "ECb5pRfJJ7LD",
        "colab_type": "text"
      },
      "cell_type": "markdown",
      "source": [
        "Let's view the first five rows of the imported Dataset. For this we use head()"
      ]
    },
    {
      "metadata": {
        "id": "k1kIWSj7J7LF",
        "colab_type": "code",
        "colab": {
          "base_uri": "https://localhost:8080/",
          "height": 215
        },
        "outputId": "a6a9c21f-825d-40ca-ce6b-9202edbbf089"
      },
      "cell_type": "code",
      "source": [
        "df=pd.read_csv('https://raw.githubusercontent.com/ditiansm2015/White-wine-data-analysis/master/winequality-white.csv')\n",
        "df.head()"
      ],
      "execution_count": 18,
      "outputs": [
        {
          "output_type": "execute_result",
          "data": {
            "text/html": [
              "<div>\n",
              "<style scoped>\n",
              "    .dataframe tbody tr th:only-of-type {\n",
              "        vertical-align: middle;\n",
              "    }\n",
              "\n",
              "    .dataframe tbody tr th {\n",
              "        vertical-align: top;\n",
              "    }\n",
              "\n",
              "    .dataframe thead th {\n",
              "        text-align: right;\n",
              "    }\n",
              "</style>\n",
              "<table border=\"1\" class=\"dataframe\">\n",
              "  <thead>\n",
              "    <tr style=\"text-align: right;\">\n",
              "      <th></th>\n",
              "      <th>fixed acidity</th>\n",
              "      <th>volatile acidity</th>\n",
              "      <th>citric acid</th>\n",
              "      <th>residual sugar</th>\n",
              "      <th>chlorides</th>\n",
              "      <th>free sulfur dioxide</th>\n",
              "      <th>total sulfur dioxide</th>\n",
              "      <th>density</th>\n",
              "      <th>pH</th>\n",
              "      <th>sulphates</th>\n",
              "      <th>alcohol</th>\n",
              "      <th>quality</th>\n",
              "    </tr>\n",
              "  </thead>\n",
              "  <tbody>\n",
              "    <tr>\n",
              "      <th>0</th>\n",
              "      <td>7.0</td>\n",
              "      <td>0.27</td>\n",
              "      <td>0.36</td>\n",
              "      <td>20.7</td>\n",
              "      <td>0.045</td>\n",
              "      <td>45.0</td>\n",
              "      <td>170.0</td>\n",
              "      <td>1.0010</td>\n",
              "      <td>3.00</td>\n",
              "      <td>0.45</td>\n",
              "      <td>8.8</td>\n",
              "      <td>6</td>\n",
              "    </tr>\n",
              "    <tr>\n",
              "      <th>1</th>\n",
              "      <td>6.3</td>\n",
              "      <td>0.30</td>\n",
              "      <td>0.34</td>\n",
              "      <td>1.6</td>\n",
              "      <td>0.049</td>\n",
              "      <td>14.0</td>\n",
              "      <td>132.0</td>\n",
              "      <td>0.9940</td>\n",
              "      <td>3.30</td>\n",
              "      <td>0.49</td>\n",
              "      <td>9.5</td>\n",
              "      <td>6</td>\n",
              "    </tr>\n",
              "    <tr>\n",
              "      <th>2</th>\n",
              "      <td>8.1</td>\n",
              "      <td>0.28</td>\n",
              "      <td>0.40</td>\n",
              "      <td>6.9</td>\n",
              "      <td>0.050</td>\n",
              "      <td>30.0</td>\n",
              "      <td>97.0</td>\n",
              "      <td>0.9951</td>\n",
              "      <td>3.26</td>\n",
              "      <td>0.44</td>\n",
              "      <td>10.1</td>\n",
              "      <td>6</td>\n",
              "    </tr>\n",
              "    <tr>\n",
              "      <th>3</th>\n",
              "      <td>7.2</td>\n",
              "      <td>0.23</td>\n",
              "      <td>0.32</td>\n",
              "      <td>8.5</td>\n",
              "      <td>0.058</td>\n",
              "      <td>47.0</td>\n",
              "      <td>186.0</td>\n",
              "      <td>0.9956</td>\n",
              "      <td>3.19</td>\n",
              "      <td>0.40</td>\n",
              "      <td>9.9</td>\n",
              "      <td>6</td>\n",
              "    </tr>\n",
              "    <tr>\n",
              "      <th>4</th>\n",
              "      <td>7.2</td>\n",
              "      <td>0.23</td>\n",
              "      <td>0.32</td>\n",
              "      <td>8.5</td>\n",
              "      <td>0.058</td>\n",
              "      <td>47.0</td>\n",
              "      <td>186.0</td>\n",
              "      <td>0.9956</td>\n",
              "      <td>3.19</td>\n",
              "      <td>0.40</td>\n",
              "      <td>9.9</td>\n",
              "      <td>6</td>\n",
              "    </tr>\n",
              "  </tbody>\n",
              "</table>\n",
              "</div>"
            ],
            "text/plain": [
              "   fixed acidity  volatile acidity  citric acid  residual sugar  chlorides  \\\n",
              "0            7.0              0.27         0.36            20.7      0.045   \n",
              "1            6.3              0.30         0.34             1.6      0.049   \n",
              "2            8.1              0.28         0.40             6.9      0.050   \n",
              "3            7.2              0.23         0.32             8.5      0.058   \n",
              "4            7.2              0.23         0.32             8.5      0.058   \n",
              "\n",
              "   free sulfur dioxide  total sulfur dioxide  density    pH  sulphates  \\\n",
              "0                 45.0                 170.0   1.0010  3.00       0.45   \n",
              "1                 14.0                 132.0   0.9940  3.30       0.49   \n",
              "2                 30.0                  97.0   0.9951  3.26       0.44   \n",
              "3                 47.0                 186.0   0.9956  3.19       0.40   \n",
              "4                 47.0                 186.0   0.9956  3.19       0.40   \n",
              "\n",
              "   alcohol  quality  \n",
              "0      8.8        6  \n",
              "1      9.5        6  \n",
              "2     10.1        6  \n",
              "3      9.9        6  \n",
              "4      9.9        6  "
            ]
          },
          "metadata": {
            "tags": []
          },
          "execution_count": 18
        }
      ]
    },
    {
      "metadata": {
        "id": "c4W5fDCPJ7LK",
        "colab_type": "text"
      },
      "cell_type": "markdown",
      "source": [
        "Shape of the Dataset is:"
      ]
    },
    {
      "metadata": {
        "id": "yJObU-oDJ7LL",
        "colab_type": "code",
        "colab": {
          "base_uri": "https://localhost:8080/",
          "height": 35
        },
        "outputId": "16e71f2f-bbff-4676-dd5f-4a15315606ea"
      },
      "cell_type": "code",
      "source": [
        "df.shape"
      ],
      "execution_count": 19,
      "outputs": [
        {
          "output_type": "execute_result",
          "data": {
            "text/plain": [
              "(4898, 12)"
            ]
          },
          "metadata": {
            "tags": []
          },
          "execution_count": 19
        }
      ]
    },
    {
      "metadata": {
        "id": "FUFUafdpJ7LP",
        "colab_type": "text"
      },
      "cell_type": "markdown",
      "source": [
        "Size of the Dataset is:"
      ]
    },
    {
      "metadata": {
        "id": "c54oIIhnJ7LQ",
        "colab_type": "code",
        "colab": {
          "base_uri": "https://localhost:8080/",
          "height": 35
        },
        "outputId": "82a5e0f5-263f-47e3-fccb-991645c63895"
      },
      "cell_type": "code",
      "source": [
        "df.size"
      ],
      "execution_count": 20,
      "outputs": [
        {
          "output_type": "execute_result",
          "data": {
            "text/plain": [
              "58776"
            ]
          },
          "metadata": {
            "tags": []
          },
          "execution_count": 20
        }
      ]
    },
    {
      "metadata": {
        "id": "EMre6QTzJ7LU",
        "colab_type": "text"
      },
      "cell_type": "markdown",
      "source": [
        "statistical analysis of the Dataset "
      ]
    },
    {
      "metadata": {
        "id": "B3Di4QKsJ7LW",
        "colab_type": "code",
        "colab": {
          "base_uri": "https://localhost:8080/",
          "height": 343
        },
        "outputId": "ed1e19b4-8932-4066-a69b-81599fd7ce0f"
      },
      "cell_type": "code",
      "source": [
        "df.describe(include='all')"
      ],
      "execution_count": 21,
      "outputs": [
        {
          "output_type": "execute_result",
          "data": {
            "text/html": [
              "<div>\n",
              "<style scoped>\n",
              "    .dataframe tbody tr th:only-of-type {\n",
              "        vertical-align: middle;\n",
              "    }\n",
              "\n",
              "    .dataframe tbody tr th {\n",
              "        vertical-align: top;\n",
              "    }\n",
              "\n",
              "    .dataframe thead th {\n",
              "        text-align: right;\n",
              "    }\n",
              "</style>\n",
              "<table border=\"1\" class=\"dataframe\">\n",
              "  <thead>\n",
              "    <tr style=\"text-align: right;\">\n",
              "      <th></th>\n",
              "      <th>fixed acidity</th>\n",
              "      <th>volatile acidity</th>\n",
              "      <th>citric acid</th>\n",
              "      <th>residual sugar</th>\n",
              "      <th>chlorides</th>\n",
              "      <th>free sulfur dioxide</th>\n",
              "      <th>total sulfur dioxide</th>\n",
              "      <th>density</th>\n",
              "      <th>pH</th>\n",
              "      <th>sulphates</th>\n",
              "      <th>alcohol</th>\n",
              "      <th>quality</th>\n",
              "    </tr>\n",
              "  </thead>\n",
              "  <tbody>\n",
              "    <tr>\n",
              "      <th>count</th>\n",
              "      <td>4898.000000</td>\n",
              "      <td>4898.000000</td>\n",
              "      <td>4898.000000</td>\n",
              "      <td>4898.000000</td>\n",
              "      <td>4898.000000</td>\n",
              "      <td>4898.000000</td>\n",
              "      <td>4898.000000</td>\n",
              "      <td>4898.000000</td>\n",
              "      <td>4898.000000</td>\n",
              "      <td>4898.000000</td>\n",
              "      <td>4898.000000</td>\n",
              "      <td>4898.000000</td>\n",
              "    </tr>\n",
              "    <tr>\n",
              "      <th>mean</th>\n",
              "      <td>6.854788</td>\n",
              "      <td>0.278241</td>\n",
              "      <td>0.334192</td>\n",
              "      <td>6.391415</td>\n",
              "      <td>0.045772</td>\n",
              "      <td>35.308085</td>\n",
              "      <td>138.360657</td>\n",
              "      <td>0.994027</td>\n",
              "      <td>3.188267</td>\n",
              "      <td>0.489847</td>\n",
              "      <td>10.514267</td>\n",
              "      <td>5.877909</td>\n",
              "    </tr>\n",
              "    <tr>\n",
              "      <th>std</th>\n",
              "      <td>0.843868</td>\n",
              "      <td>0.100795</td>\n",
              "      <td>0.121020</td>\n",
              "      <td>5.072058</td>\n",
              "      <td>0.021848</td>\n",
              "      <td>17.007137</td>\n",
              "      <td>42.498065</td>\n",
              "      <td>0.002991</td>\n",
              "      <td>0.151001</td>\n",
              "      <td>0.114126</td>\n",
              "      <td>1.230621</td>\n",
              "      <td>0.885639</td>\n",
              "    </tr>\n",
              "    <tr>\n",
              "      <th>min</th>\n",
              "      <td>3.800000</td>\n",
              "      <td>0.080000</td>\n",
              "      <td>0.000000</td>\n",
              "      <td>0.600000</td>\n",
              "      <td>0.009000</td>\n",
              "      <td>2.000000</td>\n",
              "      <td>9.000000</td>\n",
              "      <td>0.987110</td>\n",
              "      <td>2.720000</td>\n",
              "      <td>0.220000</td>\n",
              "      <td>8.000000</td>\n",
              "      <td>3.000000</td>\n",
              "    </tr>\n",
              "    <tr>\n",
              "      <th>25%</th>\n",
              "      <td>6.300000</td>\n",
              "      <td>0.210000</td>\n",
              "      <td>0.270000</td>\n",
              "      <td>1.700000</td>\n",
              "      <td>0.036000</td>\n",
              "      <td>23.000000</td>\n",
              "      <td>108.000000</td>\n",
              "      <td>0.991723</td>\n",
              "      <td>3.090000</td>\n",
              "      <td>0.410000</td>\n",
              "      <td>9.500000</td>\n",
              "      <td>5.000000</td>\n",
              "    </tr>\n",
              "    <tr>\n",
              "      <th>50%</th>\n",
              "      <td>6.800000</td>\n",
              "      <td>0.260000</td>\n",
              "      <td>0.320000</td>\n",
              "      <td>5.200000</td>\n",
              "      <td>0.043000</td>\n",
              "      <td>34.000000</td>\n",
              "      <td>134.000000</td>\n",
              "      <td>0.993740</td>\n",
              "      <td>3.180000</td>\n",
              "      <td>0.470000</td>\n",
              "      <td>10.400000</td>\n",
              "      <td>6.000000</td>\n",
              "    </tr>\n",
              "    <tr>\n",
              "      <th>75%</th>\n",
              "      <td>7.300000</td>\n",
              "      <td>0.320000</td>\n",
              "      <td>0.390000</td>\n",
              "      <td>9.900000</td>\n",
              "      <td>0.050000</td>\n",
              "      <td>46.000000</td>\n",
              "      <td>167.000000</td>\n",
              "      <td>0.996100</td>\n",
              "      <td>3.280000</td>\n",
              "      <td>0.550000</td>\n",
              "      <td>11.400000</td>\n",
              "      <td>6.000000</td>\n",
              "    </tr>\n",
              "    <tr>\n",
              "      <th>max</th>\n",
              "      <td>14.200000</td>\n",
              "      <td>1.100000</td>\n",
              "      <td>1.660000</td>\n",
              "      <td>65.800000</td>\n",
              "      <td>0.346000</td>\n",
              "      <td>289.000000</td>\n",
              "      <td>440.000000</td>\n",
              "      <td>1.038980</td>\n",
              "      <td>3.820000</td>\n",
              "      <td>1.080000</td>\n",
              "      <td>14.200000</td>\n",
              "      <td>9.000000</td>\n",
              "    </tr>\n",
              "  </tbody>\n",
              "</table>\n",
              "</div>"
            ],
            "text/plain": [
              "       fixed acidity  volatile acidity  citric acid  residual sugar  \\\n",
              "count    4898.000000       4898.000000  4898.000000     4898.000000   \n",
              "mean        6.854788          0.278241     0.334192        6.391415   \n",
              "std         0.843868          0.100795     0.121020        5.072058   \n",
              "min         3.800000          0.080000     0.000000        0.600000   \n",
              "25%         6.300000          0.210000     0.270000        1.700000   \n",
              "50%         6.800000          0.260000     0.320000        5.200000   \n",
              "75%         7.300000          0.320000     0.390000        9.900000   \n",
              "max        14.200000          1.100000     1.660000       65.800000   \n",
              "\n",
              "         chlorides  free sulfur dioxide  total sulfur dioxide      density  \\\n",
              "count  4898.000000          4898.000000           4898.000000  4898.000000   \n",
              "mean      0.045772            35.308085            138.360657     0.994027   \n",
              "std       0.021848            17.007137             42.498065     0.002991   \n",
              "min       0.009000             2.000000              9.000000     0.987110   \n",
              "25%       0.036000            23.000000            108.000000     0.991723   \n",
              "50%       0.043000            34.000000            134.000000     0.993740   \n",
              "75%       0.050000            46.000000            167.000000     0.996100   \n",
              "max       0.346000           289.000000            440.000000     1.038980   \n",
              "\n",
              "                pH    sulphates      alcohol      quality  \n",
              "count  4898.000000  4898.000000  4898.000000  4898.000000  \n",
              "mean      3.188267     0.489847    10.514267     5.877909  \n",
              "std       0.151001     0.114126     1.230621     0.885639  \n",
              "min       2.720000     0.220000     8.000000     3.000000  \n",
              "25%       3.090000     0.410000     9.500000     5.000000  \n",
              "50%       3.180000     0.470000    10.400000     6.000000  \n",
              "75%       3.280000     0.550000    11.400000     6.000000  \n",
              "max       3.820000     1.080000    14.200000     9.000000  "
            ]
          },
          "metadata": {
            "tags": []
          },
          "execution_count": 21
        }
      ]
    },
    {
      "metadata": {
        "id": "Q-Qw9tDLJ7La",
        "colab_type": "text"
      },
      "cell_type": "markdown",
      "source": [
        "Checking for NULL VALUES"
      ]
    },
    {
      "metadata": {
        "id": "1QChjhyuJ7Lb",
        "colab_type": "code",
        "colab": {
          "base_uri": "https://localhost:8080/",
          "height": 254
        },
        "outputId": "745084bd-75c1-4029-a4eb-3152152f5122"
      },
      "cell_type": "code",
      "source": [
        "df.isnull().sum()"
      ],
      "execution_count": 22,
      "outputs": [
        {
          "output_type": "execute_result",
          "data": {
            "text/plain": [
              "fixed acidity           0\n",
              "volatile acidity        0\n",
              "citric acid             0\n",
              "residual sugar          0\n",
              "chlorides               0\n",
              "free sulfur dioxide     0\n",
              "total sulfur dioxide    0\n",
              "density                 0\n",
              "pH                      0\n",
              "sulphates               0\n",
              "alcohol                 0\n",
              "quality                 0\n",
              "dtype: int64"
            ]
          },
          "metadata": {
            "tags": []
          },
          "execution_count": 22
        }
      ]
    },
    {
      "metadata": {
        "id": "lu98hiOYJ7Lg",
        "colab_type": "text"
      },
      "cell_type": "markdown",
      "source": [
        "## Univariate Analysis"
      ]
    },
    {
      "metadata": {
        "id": "dLB86BIWJ7Lh",
        "colab_type": "text"
      },
      "cell_type": "markdown",
      "source": [
        "\"Uni\" means one, \"Variate\" means variable.Thus Univariate means one variable.Hence in Univariate Analysis we focus on just one variable at a time. Univariate annalysis helps in finding out the Outliers present in the dataset.\n",
        "\n",
        "We also tend to find the dsitribution of the data on the dataset which can further help us for the Bivaraite/Multivariate analysis."
      ]
    },
    {
      "metadata": {
        "id": "8477UGdyJ7Li",
        "colab_type": "text"
      },
      "cell_type": "markdown",
      "source": [
        "### Quality-count plot"
      ]
    },
    {
      "metadata": {
        "id": "DyNVKeHBJ7Lk",
        "colab_type": "text"
      },
      "cell_type": "markdown",
      "source": [
        "From the quality count plot we can say:\n",
        "1. Maximum number of wines have been rated 6\n",
        "2. The second hightest rating is 5.\n",
        "3. Hence we may conclude that the wine tasters were not given good quality of wine to test"
      ]
    },
    {
      "metadata": {
        "id": "Ky-R5a-JJ7Lm",
        "colab_type": "code",
        "colab": {
          "base_uri": "https://localhost:8080/",
          "height": 354
        },
        "outputId": "bfd06bc7-7e61-4fa1-ac20-55f22e5b5704"
      },
      "cell_type": "code",
      "source": [
        "sns.countplot(x = 'quality', data = df)"
      ],
      "execution_count": 23,
      "outputs": [
        {
          "output_type": "stream",
          "text": [
            "/usr/local/lib/python3.6/dist-packages/seaborn/categorical.py:1428: FutureWarning: remove_na is deprecated and is a private function. Do not use.\n",
            "  stat_data = remove_na(group_data)\n"
          ],
          "name": "stderr"
        },
        {
          "output_type": "execute_result",
          "data": {
            "text/plain": [
              "<matplotlib.axes._subplots.AxesSubplot at 0x7f9673461e80>"
            ]
          },
          "metadata": {
            "tags": []
          },
          "execution_count": 23
        },
        {
          "output_type": "display_data",
          "data": {
            "image/png": "[encoded data removed]",
            "text/plain": [
              "<matplotlib.figure.Figure at 0x7f96738c01d0>"
            ]
          },
          "metadata": {
            "tags": []
          }
        }
      ]
    },
    {
      "metadata": {
        "id": "7l2euQXIJ7Lx",
        "colab_type": "text"
      },
      "cell_type": "markdown",
      "source": [
        "### alcohol-count plot"
      ]
    },
    {
      "metadata": {
        "id": "NWnjmyfkJ7Lz",
        "colab_type": "text"
      },
      "cell_type": "markdown",
      "source": [
        "From the two alcohol-count plots, we may say:\n",
        "1. The curve is left skewed\n",
        "2. Most of the wines have alcohol content between 9% to 10%\n",
        "3. Content of alcohol are from 8.5% to 14% by volume"
      ]
    },
    {
      "metadata": {
        "id": "TAyxP9bXJ7L1",
        "colab_type": "code",
        "colab": {
          "base_uri": "https://localhost:8080/",
          "height": 465
        },
        "outputId": "daaf52e7-360c-4d43-c8a4-71f11f171a7c"
      },
      "cell_type": "code",
      "source": [
        "plt.hist(x = 'alcohol' , data = df , bins=30)"
      ],
      "execution_count": 24,
      "outputs": [
        {
          "output_type": "execute_result",
          "data": {
            "text/plain": [
              "(array([  2.,   3.,  32., 185., 280., 343., 363., 362., 244., 272., 249.,\n",
              "        240., 279., 231., 255., 297., 220., 108., 117., 158., 152., 151.,\n",
              "        122.,  95.,  56.,  21.,  33.,  16.,   5.,   7.]),\n",
              " array([ 8.        ,  8.20666667,  8.41333333,  8.62      ,  8.82666667,\n",
              "         9.03333333,  9.24      ,  9.44666667,  9.65333333,  9.86      ,\n",
              "        10.06666667, 10.27333333, 10.48      , 10.68666667, 10.89333333,\n",
              "        11.1       , 11.30666667, 11.51333333, 11.72      , 11.92666667,\n",
              "        12.13333333, 12.34      , 12.54666667, 12.75333333, 12.96      ,\n",
              "        13.16666667, 13.37333333, 13.58      , 13.78666667, 13.99333333,\n",
              "        14.2       ]),\n",
              " <a list of 30 Patch objects>)"
            ]
          },
          "metadata": {
            "tags": []
          },
          "execution_count": 24
        },
        {
          "output_type": "display_data",
          "data": {
            "image/png": "[encoded data removed]",
            "text/plain": [
              "<matplotlib.figure.Figure at 0x7f96734507f0>"
            ]
          },
          "metadata": {
            "tags": []
          }
        }
      ]
    },
    {
      "metadata": {
        "id": "4AywSv5tJ7L9",
        "colab_type": "code",
        "colab": {
          "base_uri": "https://localhost:8080/",
          "height": 297
        },
        "outputId": "bc3045f9-9376-4b1c-f907-63629c0bd969"
      },
      "cell_type": "code",
      "source": [
        "sns.distplot(df['alcohol'])"
      ],
      "execution_count": 25,
      "outputs": [
        {
          "output_type": "execute_result",
          "data": {
            "text/plain": [
              "<matplotlib.axes._subplots.AxesSubplot at 0x7f96712dec18>"
            ]
          },
          "metadata": {
            "tags": []
          },
          "execution_count": 25
        },
        {
          "output_type": "display_data",
          "data": {
            "image/png": "[encoded data removed]",
            "text/plain": [
              "<matplotlib.figure.Figure at 0x7f96712fb9e8>"
            ]
          },
          "metadata": {
            "tags": []
          }
        }
      ]
    },
    {
      "metadata": {
        "id": "1XBkAJjsJ7MG",
        "colab_type": "text"
      },
      "cell_type": "markdown",
      "source": [
        "### sulphates - Count plot¶"
      ]
    },
    {
      "metadata": {
        "id": "UwjEJGqaJ7MG",
        "colab_type": "text"
      },
      "cell_type": "markdown",
      "source": [
        "Following conclusions can be drawn from the given graphs\n",
        "1. Distrbution seems to be normal\n",
        "2. Most of wines have sulphate content ranging between 0.4% to 0.6% by volume\n",
        "3. A lot many outliers can be seen\n",
        "4. The graph is left skewed"
      ]
    },
    {
      "metadata": {
        "id": "mkUDAnzSJ7MI",
        "colab_type": "code",
        "colab": {
          "base_uri": "https://localhost:8080/",
          "height": 265
        },
        "outputId": "ee22845b-07ca-432e-95e0-c54d2ae0eb99"
      },
      "cell_type": "code",
      "source": [
        "plt.hist(x = 'sulphates', data = df , bins = 30) \n",
        "plt.show()"
      ],
      "execution_count": 26,
      "outputs": [
        {
          "output_type": "display_data",
          "data": {
            "image/png": "[encoded data removed]",
            "text/plain": [
              "<matplotlib.figure.Figure at 0x7f9671292f60>"
            ]
          },
          "metadata": {
            "tags": []
          }
        }
      ]
    },
    {
      "metadata": {
        "id": "xDskWaQrJ7ML",
        "colab_type": "code",
        "colab": {
          "base_uri": "https://localhost:8080/",
          "height": 301
        },
        "outputId": "49346477-eed0-48a8-9735-504ad253c61c"
      },
      "cell_type": "code",
      "source": [
        "sns.distplot(df['sulphates'])"
      ],
      "execution_count": 27,
      "outputs": [
        {
          "output_type": "execute_result",
          "data": {
            "text/plain": [
              "<matplotlib.axes._subplots.AxesSubplot at 0x7f96712c52e8>"
            ]
          },
          "metadata": {
            "tags": []
          },
          "execution_count": 27
        },
        {
          "output_type": "display_data",
          "data": {
            "image/png": "[encoded data removed]",
            "text/plain": [
              "<matplotlib.figure.Figure at 0x7f96711df588>"
            ]
          },
          "metadata": {
            "tags": []
          }
        }
      ]
    },
    {
      "metadata": {
        "id": "Lc8mt3csJ7MP",
        "colab_type": "text"
      },
      "cell_type": "markdown",
      "source": [
        "### pH - Count plot.¶"
      ]
    },
    {
      "metadata": {
        "id": "Ec7JcSwMJ7MQ",
        "colab_type": "text"
      },
      "cell_type": "markdown",
      "source": [
        "The plots can help us derve the following facts:\n",
        "    1. The curve is normally distributed\n",
        "    2. Most of the wine have approximately 3.2 as the highest pH"
      ]
    },
    {
      "metadata": {
        "id": "fIUFeExnJ7MR",
        "colab_type": "code",
        "colab": {
          "base_uri": "https://localhost:8080/",
          "height": 270
        },
        "outputId": "79ec43a1-4cc6-4511-b468-2626f9cf38b4"
      },
      "cell_type": "code",
      "source": [
        "plt.hist(x = 'pH' , data = df , bins =30 ) \n",
        "plt.show()"
      ],
      "execution_count": 28,
      "outputs": [
        {
          "output_type": "display_data",
          "data": {
            "image/png": "[encoded data removed]",
            "text/plain": [
              "<matplotlib.figure.Figure at 0x7f9673a636a0>"
            ]
          },
          "metadata": {
            "tags": []
          }
        }
      ]
    },
    {
      "metadata": {
        "id": "PuaZPqstJ7MY",
        "colab_type": "code",
        "colab": {
          "base_uri": "https://localhost:8080/",
          "height": 297
        },
        "outputId": "dc67ead7-8ea9-4094-cde6-95e70a936fc6"
      },
      "cell_type": "code",
      "source": [
        "sns.distplot(df['pH'])"
      ],
      "execution_count": 29,
      "outputs": [
        {
          "output_type": "execute_result",
          "data": {
            "text/plain": [
              "<matplotlib.axes._subplots.AxesSubplot at 0x7f967110e1d0>"
            ]
          },
          "metadata": {
            "tags": []
          },
          "execution_count": 29
        },
        {
          "output_type": "display_data",
          "data": {
            "image/png": "[encoded data removed]",
            "text/plain": [
              "<matplotlib.figure.Figure at 0x7f967112a048>"
            ]
          },
          "metadata": {
            "tags": []
          }
        }
      ]
    },
    {
      "metadata": {
        "id": "YDRTx6QDJ7Mc",
        "colab_type": "text"
      },
      "cell_type": "markdown",
      "source": [
        "### density-count plot"
      ]
    },
    {
      "metadata": {
        "id": "U3ucgbQ5J7Md",
        "colab_type": "text"
      },
      "cell_type": "markdown",
      "source": [
        "The curve shows us the follwoing details:\n",
        "1. The curve seems to be normal\n",
        "2. A few outliers can be observed near density=1.01 and beyond\n",
        "3. Maximum wines have density near to 0.99"
      ]
    },
    {
      "metadata": {
        "id": "XL7QQXlJJ7Me",
        "colab_type": "code",
        "colab": {
          "base_uri": "https://localhost:8080/",
          "height": 265
        },
        "outputId": "d3a08367-f310-459b-f029-5c1351a945e1"
      },
      "cell_type": "code",
      "source": [
        "plt.hist(x = 'density' , data = df , bins = 45) \n",
        "plt.show()"
      ],
      "execution_count": 30,
      "outputs": [
        {
          "output_type": "display_data",
          "data": {
            "image/png": "[encoded data removed]",
            "text/plain": [
              "<matplotlib.figure.Figure at 0x7f967104a748>"
            ]
          },
          "metadata": {
            "tags": []
          }
        }
      ]
    },
    {
      "metadata": {
        "id": "Qz8VfmQSJ7Mi",
        "colab_type": "code",
        "colab": {
          "base_uri": "https://localhost:8080/",
          "height": 297
        },
        "outputId": "09c04dac-c609-4a89-bf07-047d4f8bad32"
      },
      "cell_type": "code",
      "source": [
        "sns.distplot(df['density'])"
      ],
      "execution_count": 31,
      "outputs": [
        {
          "output_type": "execute_result",
          "data": {
            "text/plain": [
              "<matplotlib.axes._subplots.AxesSubplot at 0x7f96710145f8>"
            ]
          },
          "metadata": {
            "tags": []
          },
          "execution_count": 31
        },
        {
          "output_type": "display_data",
          "data": {
            "image/png": "[encoded data removed]",
            "text/plain": [
              "<matplotlib.figure.Figure at 0x7f9670f2ffd0>"
            ]
          },
          "metadata": {
            "tags": []
          }
        }
      ]
    },
    {
      "metadata": {
        "id": "28iMT4WkJ7Mo",
        "colab_type": "text"
      },
      "cell_type": "markdown",
      "source": [
        "### total sulfur dioxide-count plot"
      ]
    },
    {
      "metadata": {
        "id": "GthJUVd7J7Mq",
        "colab_type": "text"
      },
      "cell_type": "markdown",
      "source": [
        "The distribution curve for sulfur dioxide shows the following:\n",
        "1. Curve is normally distibuted\n",
        "2. There are outliers\n",
        "3. Most of the wines have sulfur dioxide content as approximately 100"
      ]
    },
    {
      "metadata": {
        "id": "VihMpJM2J7Mq",
        "colab_type": "code",
        "colab": {
          "base_uri": "https://localhost:8080/",
          "height": 265
        },
        "outputId": "6d632153-804a-4ae6-da9e-ac20ec04819b"
      },
      "cell_type": "code",
      "source": [
        "plt.hist(x = 'total sulfur dioxide' , data = df , bins = 50) \n",
        "plt.show()"
      ],
      "execution_count": 32,
      "outputs": [
        {
          "output_type": "display_data",
          "data": {
            "image/png": "[encoded data removed]",
            "text/plain": [
              "<matplotlib.figure.Figure at 0x7f9670f86080>"
            ]
          },
          "metadata": {
            "tags": []
          }
        }
      ]
    },
    {
      "metadata": {
        "id": "jfZQRM4UJ7Mu",
        "colab_type": "code",
        "colab": {
          "base_uri": "https://localhost:8080/",
          "height": 297
        },
        "outputId": "51ea811b-7e8e-4be2-b647-709686173bc0"
      },
      "cell_type": "code",
      "source": [
        "sns.distplot(df['total sulfur dioxide']) "
      ],
      "execution_count": 33,
      "outputs": [
        {
          "output_type": "execute_result",
          "data": {
            "text/plain": [
              "<matplotlib.axes._subplots.AxesSubplot at 0x7f9670e23780>"
            ]
          },
          "metadata": {
            "tags": []
          },
          "execution_count": 33
        },
        {
          "output_type": "display_data",
          "data": {
            "image/png": "[encoded data removed]",
            "text/plain": [
              "<matplotlib.figure.Figure at 0x7f9671189f98>"
            ]
          },
          "metadata": {
            "tags": []
          }
        }
      ]
    },
    {
      "metadata": {
        "id": "Z6LCLfj1J7Mz",
        "colab_type": "text"
      },
      "cell_type": "markdown",
      "source": [
        "### free sulfur dioxide-count plot"
      ]
    },
    {
      "metadata": {
        "id": "pr6qDsu1J7M1",
        "colab_type": "text"
      },
      "cell_type": "markdown",
      "source": [
        "The graphs shows following attributes:\n",
        "1. There are a lot many outliers beyong x=100 as can be seen from distplot\n",
        "2. The curve has normal distribution\n",
        "3. Most of the wine has free sulfur dioxide content ranging from 20%-50%"
      ]
    },
    {
      "metadata": {
        "id": "BiSGCbP7J7M8",
        "colab_type": "code",
        "colab": {
          "base_uri": "https://localhost:8080/",
          "height": 265
        },
        "outputId": "c0f65001-b631-4db7-9f7e-918afc53eef9"
      },
      "cell_type": "code",
      "source": [
        "plt.hist(x = 'free sulfur dioxide' , data = df , bins = 55) \n",
        "plt.show()"
      ],
      "execution_count": 34,
      "outputs": [
        {
          "output_type": "display_data",
          "data": {
            "image/png": "[encoded data removed]",
            "text/plain": [
              "<matplotlib.figure.Figure at 0x7f9670d14c50>"
            ]
          },
          "metadata": {
            "tags": []
          }
        }
      ]
    },
    {
      "metadata": {
        "id": "OQVDm2l2J7NE",
        "colab_type": "code",
        "colab": {
          "base_uri": "https://localhost:8080/",
          "height": 297
        },
        "outputId": "ca4b066d-d4e1-4c93-aed1-3971d69c00b0"
      },
      "cell_type": "code",
      "source": [
        "sns.distplot(df['free sulfur dioxide'])"
      ],
      "execution_count": 35,
      "outputs": [
        {
          "output_type": "execute_result",
          "data": {
            "text/plain": [
              "<matplotlib.axes._subplots.AxesSubplot at 0x7f9670cbfa20>"
            ]
          },
          "metadata": {
            "tags": []
          },
          "execution_count": 35
        },
        {
          "output_type": "display_data",
          "data": {
            "image/png": "[encoded data removed]",
            "text/plain": [
              "<matplotlib.figure.Figure at 0x7f9670c03470>"
            ]
          },
          "metadata": {
            "tags": []
          }
        }
      ]
    },
    {
      "metadata": {
        "id": "HMgXQYdWJ7NK",
        "colab_type": "text"
      },
      "cell_type": "markdown",
      "source": [
        "### chlorides-count plot\n",
        "\n"
      ]
    },
    {
      "metadata": {
        "id": "TkZaQHszJ7NL",
        "colab_type": "text"
      },
      "cell_type": "markdown",
      "source": [
        "From the chlorides count plot we can say:\n",
        "1. There is normal distribution of curve\n",
        "2. Most of the wine have chlorides content ranging from 120% to 160%\n",
        "3. There are outliers beyond x=300"
      ]
    },
    {
      "metadata": {
        "id": "4xmo1uLWJ7NM",
        "colab_type": "code",
        "colab": {
          "base_uri": "https://localhost:8080/",
          "height": 265
        },
        "outputId": "d8debf16-0005-4fed-b5f2-8ebf843b2d97"
      },
      "cell_type": "code",
      "source": [
        "plt.hist(x = 'total sulfur dioxide' , data = df , bins = 45) \n",
        "plt.show()"
      ],
      "execution_count": 36,
      "outputs": [
        {
          "output_type": "display_data",
          "data": {
            "image/png": "[encoded data removed]",
            "text/plain": [
              "<matplotlib.figure.Figure at 0x7f9670ba6940>"
            ]
          },
          "metadata": {
            "tags": []
          }
        }
      ]
    },
    {
      "metadata": {
        "id": "EFZakR-fJ7NQ",
        "colab_type": "code",
        "colab": {
          "base_uri": "https://localhost:8080/",
          "height": 297
        },
        "outputId": "f60f6a39-0d06-415b-c22a-ac86abb63935"
      },
      "cell_type": "code",
      "source": [
        "sns.distplot(df['total sulfur dioxide'])"
      ],
      "execution_count": 37,
      "outputs": [
        {
          "output_type": "execute_result",
          "data": {
            "text/plain": [
              "<matplotlib.axes._subplots.AxesSubplot at 0x7f9670ba6be0>"
            ]
          },
          "metadata": {
            "tags": []
          },
          "execution_count": 37
        },
        {
          "output_type": "display_data",
          "data": {
            "image/png": "[encoded data removed]",
            "text/plain": [
              "<matplotlib.figure.Figure at 0x7f9670a91080>"
            ]
          },
          "metadata": {
            "tags": []
          }
        }
      ]
    },
    {
      "metadata": {
        "id": "qRhBSoJUJ7NV",
        "colab_type": "text"
      },
      "cell_type": "markdown",
      "source": [
        "### residual sugar-count plot"
      ]
    },
    {
      "metadata": {
        "id": "hW_mej0SJ7NW",
        "colab_type": "text"
      },
      "cell_type": "markdown",
      "source": [
        "From the residual sugar count plot we can say:\n",
        "1. The graph is left skewed\n",
        "2. The graph is not normally distributed\n",
        "3. Most of the wine have residual sugar content ranging from 0.1% to 1%"
      ]
    },
    {
      "metadata": {
        "id": "mjc8OFaQJ7NX",
        "colab_type": "code",
        "colab": {
          "base_uri": "https://localhost:8080/",
          "height": 265
        },
        "outputId": "4565ca9e-bf1f-40f4-cff0-f35ce1346c22"
      },
      "cell_type": "code",
      "source": [
        "plt.hist(x = 'residual sugar' , data = df , bins = 50) \n",
        "plt.show()"
      ],
      "execution_count": 38,
      "outputs": [
        {
          "output_type": "display_data",
          "data": {
            "image/png": "[encoded data removed]",
            "text/plain": [
              "<matplotlib.figure.Figure at 0x7f9670a319e8>"
            ]
          },
          "metadata": {
            "tags": []
          }
        }
      ]
    },
    {
      "metadata": {
        "id": "V7PpC-XRJ7Ne",
        "colab_type": "code",
        "colab": {
          "base_uri": "https://localhost:8080/",
          "height": 297
        },
        "outputId": "f0930b1d-aaff-41ca-eec3-47e28d7245f2"
      },
      "cell_type": "code",
      "source": [
        "sns.distplot(df['residual sugar']) \n"
      ],
      "execution_count": 39,
      "outputs": [
        {
          "output_type": "execute_result",
          "data": {
            "text/plain": [
              "<matplotlib.axes._subplots.AxesSubplot at 0x7f9670bffcf8>"
            ]
          },
          "metadata": {
            "tags": []
          },
          "execution_count": 39
        },
        {
          "output_type": "display_data",
          "data": {
            "image/png": "[encoded data removed]",
            "text/plain": [
              "<matplotlib.figure.Figure at 0x7f9670be89e8>"
            ]
          },
          "metadata": {
            "tags": []
          }
        }
      ]
    },
    {
      "metadata": {
        "id": "czM2ZuAdJ7Ni",
        "colab_type": "text"
      },
      "cell_type": "markdown",
      "source": [
        "### citric acid-count plot"
      ]
    },
    {
      "metadata": {
        "id": "OW12si4oJ7Nj",
        "colab_type": "text"
      },
      "cell_type": "markdown",
      "source": [
        "From the citric acid count plot we can say:\n",
        "    1. There is not any skeweness \n",
        "    2. There are a lot many outlierdbeyong x=0.75"
      ]
    },
    {
      "metadata": {
        "id": "S3q7lUiZJ7Nk",
        "colab_type": "code",
        "colab": {
          "base_uri": "https://localhost:8080/",
          "height": 265
        },
        "outputId": "912a079d-f5d3-419c-c3e6-0e0106858423"
      },
      "cell_type": "code",
      "source": [
        "plt.hist(x = 'citric acid' , data = df , bins = 70) \n",
        "plt.show()"
      ],
      "execution_count": 40,
      "outputs": [
        {
          "output_type": "display_data",
          "data": {
            "image/png": "[encoded data removed]",
            "text/plain": [
              "<matplotlib.figure.Figure at 0x7f9670c792b0>"
            ]
          },
          "metadata": {
            "tags": []
          }
        }
      ]
    },
    {
      "metadata": {
        "id": "gZRp42JoJ7Nq",
        "colab_type": "code",
        "colab": {
          "base_uri": "https://localhost:8080/",
          "height": 297
        },
        "outputId": "5e2395bc-0959-4592-9032-e2b130d49b32"
      },
      "cell_type": "code",
      "source": [
        "sns.distplot(df['citric acid'])"
      ],
      "execution_count": 41,
      "outputs": [
        {
          "output_type": "execute_result",
          "data": {
            "text/plain": [
              "<matplotlib.axes._subplots.AxesSubplot at 0x7f9670f33320>"
            ]
          },
          "metadata": {
            "tags": []
          },
          "execution_count": 41
        },
        {
          "output_type": "display_data",
          "data": {
            "image/png": "[encoded data removed]",
            "text/plain": [
              "<matplotlib.figure.Figure at 0x7f9670e23da0>"
            ]
          },
          "metadata": {
            "tags": []
          }
        }
      ]
    },
    {
      "metadata": {
        "id": "fO5Mnq6oJ7Nu",
        "colab_type": "text"
      },
      "cell_type": "markdown",
      "source": [
        "### volatile acidity-count plot"
      ]
    },
    {
      "metadata": {
        "id": "4BZHGMIlJ7Nu",
        "colab_type": "text"
      },
      "cell_type": "markdown",
      "source": [
        "The distribution curve for volatile acidity shows the following:\n",
        "1. The distribution is normal\n",
        "2. Most of the wine has volatile acidity=0.3 \n",
        "3. There are a lot many outliers"
      ]
    },
    {
      "metadata": {
        "id": "frrbYMK_J7Nv",
        "colab_type": "code",
        "colab": {
          "base_uri": "https://localhost:8080/",
          "height": 265
        },
        "outputId": "b9589ef7-6212-4681-84e4-4f00c39d4e6d"
      },
      "cell_type": "code",
      "source": [
        "plt.hist(x = 'volatile acidity' , data = df , bins = 45) \n",
        "plt.show()"
      ],
      "execution_count": 42,
      "outputs": [
        {
          "output_type": "display_data",
          "data": {
            "image/png": "[encoded data removed]",
            "text/plain": [
              "<matplotlib.figure.Figure at 0x7f9671206940>"
            ]
          },
          "metadata": {
            "tags": []
          }
        }
      ]
    },
    {
      "metadata": {
        "id": "aBOWNev5J7N1",
        "colab_type": "code",
        "colab": {
          "base_uri": "https://localhost:8080/",
          "height": 297
        },
        "outputId": "7955e992-76f4-475f-9aed-a3469b13c469"
      },
      "cell_type": "code",
      "source": [
        "sns.distplot(df['volatile acidity'])"
      ],
      "execution_count": 43,
      "outputs": [
        {
          "output_type": "execute_result",
          "data": {
            "text/plain": [
              "<matplotlib.axes._subplots.AxesSubplot at 0x7f9670afab70>"
            ]
          },
          "metadata": {
            "tags": []
          },
          "execution_count": 43
        },
        {
          "output_type": "display_data",
          "data": {
            "image/png": "[encoded data removed]",
            "text/plain": [
              "<matplotlib.figure.Figure at 0x7f967110ef28>"
            ]
          },
          "metadata": {
            "tags": []
          }
        }
      ]
    },
    {
      "metadata": {
        "id": "yJRmTbFkJ7N_",
        "colab_type": "text"
      },
      "cell_type": "markdown",
      "source": [
        "### fixed acidity-count plot"
      ]
    },
    {
      "metadata": {
        "id": "YnkRjtfYJ7N_",
        "colab_type": "text"
      },
      "cell_type": "markdown",
      "source": [
        "The distribution curve for fixed acidity shows the following:\n",
        "1. Most of the wine have fixed acidity equal to 6.5% to 7.5%\n",
        "2. The distribution seems to be normal"
      ]
    },
    {
      "metadata": {
        "id": "V0Eama7MJ7OA",
        "colab_type": "code",
        "colab": {
          "base_uri": "https://localhost:8080/",
          "height": 265
        },
        "outputId": "17b562a1-4748-4ff8-9601-ad6866fca115"
      },
      "cell_type": "code",
      "source": [
        "plt.hist(x = 'fixed acidity' , data = df , bins = 50) \n",
        "plt.show()"
      ],
      "execution_count": 44,
      "outputs": [
        {
          "output_type": "display_data",
          "data": {
            "image/png": "[encoded data removed]",
            "text/plain": [
              "<matplotlib.figure.Figure at 0x7f9670907780>"
            ]
          },
          "metadata": {
            "tags": []
          }
        }
      ]
    },
    {
      "metadata": {
        "id": "YjqUNk7wJ7OF",
        "colab_type": "code",
        "colab": {
          "base_uri": "https://localhost:8080/",
          "height": 297
        },
        "outputId": "86c8bf08-3b80-4d89-b83c-2395ae2f04ec"
      },
      "cell_type": "code",
      "source": [
        "sns.distplot(df['fixed acidity'])"
      ],
      "execution_count": 45,
      "outputs": [
        {
          "output_type": "execute_result",
          "data": {
            "text/plain": [
              "<matplotlib.axes._subplots.AxesSubplot at 0x7f96709070f0>"
            ]
          },
          "metadata": {
            "tags": []
          },
          "execution_count": 45
        },
        {
          "output_type": "display_data",
          "data": {
            "image/png": "[encoded data removed]",
            "text/plain": [
              "<matplotlib.figure.Figure at 0x7f9670912588>"
            ]
          },
          "metadata": {
            "tags": []
          }
        }
      ]
    }
  ]
}